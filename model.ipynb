{
 "cells": [
  {
   "cell_type": "code",
   "execution_count": 1,
   "id": "2fa71365",
   "metadata": {},
   "outputs": [],
   "source": [
    "import pandas as pd\n",
    "\n",
    "# Load the dataset\n",
    "df = pd.read_csv(\"Bengaluru_House_Data.csv\")  # replace with your actual file name\n"
   ]
  },
  {
   "cell_type": "code",
   "execution_count": 2,
   "id": "5d209c32",
   "metadata": {},
   "outputs": [
    {
     "name": "stdout",
     "output_type": "stream",
     "text": [
      "Index(['area_type', 'availability', 'location', 'size', 'society',\n",
      "       'total_sqft', 'bath', 'balcony', 'price'],\n",
      "      dtype='object')\n"
     ]
    }
   ],
   "source": [
    "print(df.columns)\n"
   ]
  },
  {
   "cell_type": "code",
   "execution_count": 3,
   "id": "93f3b04b",
   "metadata": {},
   "outputs": [],
   "source": [
    "# Drop society only if it exists\n",
    "if 'society' in df.columns:\n",
    "    df.drop('society', axis=1, inplace=True)\n"
   ]
  },
  {
   "cell_type": "code",
   "execution_count": 4,
   "id": "29acd385",
   "metadata": {},
   "outputs": [
    {
     "name": "stderr",
     "output_type": "stream",
     "text": [
      "C:\\Users\\hp\\AppData\\Local\\Temp\\ipykernel_14324\\2593852665.py:4: FutureWarning: A value is trying to be set on a copy of a DataFrame or Series through chained assignment using an inplace method.\n",
      "The behavior will change in pandas 3.0. This inplace method will never work because the intermediate object on which we are setting values always behaves as a copy.\n",
      "\n",
      "For example, when doing 'df[col].method(value, inplace=True)', try using 'df.method({col: value}, inplace=True)' or df[col] = df[col].method(value) instead, to perform the operation inplace on the original object.\n",
      "\n",
      "\n",
      "  df['location'].fillna(df['location'].mode()[0], inplace=True)\n",
      "C:\\Users\\hp\\AppData\\Local\\Temp\\ipykernel_14324\\2593852665.py:7: FutureWarning: A value is trying to be set on a copy of a DataFrame or Series through chained assignment using an inplace method.\n",
      "The behavior will change in pandas 3.0. This inplace method will never work because the intermediate object on which we are setting values always behaves as a copy.\n",
      "\n",
      "For example, when doing 'df[col].method(value, inplace=True)', try using 'df.method({col: value}, inplace=True)' or df[col] = df[col].method(value) instead, to perform the operation inplace on the original object.\n",
      "\n",
      "\n",
      "  df['size'].fillna(df['size'].mode()[0], inplace=True)\n",
      "C:\\Users\\hp\\AppData\\Local\\Temp\\ipykernel_14324\\2593852665.py:10: FutureWarning: A value is trying to be set on a copy of a DataFrame or Series through chained assignment using an inplace method.\n",
      "The behavior will change in pandas 3.0. This inplace method will never work because the intermediate object on which we are setting values always behaves as a copy.\n",
      "\n",
      "For example, when doing 'df[col].method(value, inplace=True)', try using 'df.method({col: value}, inplace=True)' or df[col] = df[col].method(value) instead, to perform the operation inplace on the original object.\n",
      "\n",
      "\n",
      "  df['availability'].fillna(df['availability'].mode()[0], inplace=True)\n"
     ]
    }
   ],
   "source": [
    "# Fill missing values with most frequent values (mode) if available\n",
    "\n",
    "if 'location' in df.columns and not df['location'].mode().empty:\n",
    "    df['location'].fillna(df['location'].mode()[0], inplace=True)\n",
    "\n",
    "if 'size' in df.columns and not df['size'].mode().empty:\n",
    "    df['size'].fillna(df['size'].mode()[0], inplace=True)\n",
    "\n",
    "if 'availability' in df.columns and not df['availability'].mode().empty:\n",
    "    df['availability'].fillna(df['availability'].mode()[0], inplace=True)\n"
   ]
  },
  {
   "cell_type": "code",
   "execution_count": 5,
   "id": "73d54670",
   "metadata": {},
   "outputs": [
    {
     "name": "stderr",
     "output_type": "stream",
     "text": [
      "C:\\Users\\hp\\AppData\\Local\\Temp\\ipykernel_14324\\1462651299.py:3: FutureWarning: A value is trying to be set on a copy of a DataFrame or Series through chained assignment using an inplace method.\n",
      "The behavior will change in pandas 3.0. This inplace method will never work because the intermediate object on which we are setting values always behaves as a copy.\n",
      "\n",
      "For example, when doing 'df[col].method(value, inplace=True)', try using 'df.method({col: value}, inplace=True)' or df[col] = df[col].method(value) instead, to perform the operation inplace on the original object.\n",
      "\n",
      "\n",
      "  df['bath'].fillna(df['bath'].median(), inplace=True)\n",
      "C:\\Users\\hp\\AppData\\Local\\Temp\\ipykernel_14324\\1462651299.py:6: FutureWarning: A value is trying to be set on a copy of a DataFrame or Series through chained assignment using an inplace method.\n",
      "The behavior will change in pandas 3.0. This inplace method will never work because the intermediate object on which we are setting values always behaves as a copy.\n",
      "\n",
      "For example, when doing 'df[col].method(value, inplace=True)', try using 'df.method({col: value}, inplace=True)' or df[col] = df[col].method(value) instead, to perform the operation inplace on the original object.\n",
      "\n",
      "\n",
      "  df['balcony'].fillna(df['balcony'].median(), inplace=True)\n"
     ]
    }
   ],
   "source": [
    "# Numerical values — use median (robust to outliers)\n",
    "if 'bath' in df.columns:\n",
    "    df['bath'].fillna(df['bath'].median(), inplace=True)\n",
    "\n",
    "if 'balcony' in df.columns:\n",
    "    df['balcony'].fillna(df['balcony'].median(), inplace=True)\n"
   ]
  },
  {
   "cell_type": "code",
   "execution_count": 6,
   "id": "65ae1442",
   "metadata": {},
   "outputs": [
    {
     "name": "stderr",
     "output_type": "stream",
     "text": [
      "<>:2: SyntaxWarning: invalid escape sequence '\\d'\n",
      "<>:2: SyntaxWarning: invalid escape sequence '\\d'\n",
      "C:\\Users\\hp\\AppData\\Local\\Temp\\ipykernel_14324\\2288767260.py:2: SyntaxWarning: invalid escape sequence '\\d'\n",
      "  df['size'] = df['size'].str.extract('(\\d+)').astype(float)\n"
     ]
    }
   ],
   "source": [
    "# Extract numeric value from 'size' column (e.g., \"2 BHK\" → 2)\n",
    "df['size'] = df['size'].str.extract('(\\d+)').astype(float)\n"
   ]
  },
  {
   "cell_type": "code",
   "execution_count": 7,
   "id": "cbafe0fe",
   "metadata": {},
   "outputs": [],
   "source": [
    "# Convert 'total_sqft' values to float\n",
    "def convert_sqft(value):\n",
    "    try:\n",
    "        # If range, return average\n",
    "        if '-' in str(value):\n",
    "            tokens = value.split('-')\n",
    "            return (float(tokens[0]) + float(tokens[1])) / 2\n",
    "        # If it can be directly converted to float\n",
    "        return float(value)\n",
    "    except:\n",
    "        return None  # Skip complex formats like '34.5Sq. Meter'\n",
    "\n",
    "df['total_sqft'] = df['total_sqft'].apply(convert_sqft)\n"
   ]
  },
  {
   "cell_type": "code",
   "execution_count": 8,
   "id": "ca7fd263",
   "metadata": {},
   "outputs": [],
   "source": [
    "# Drop rows where total_sqft is still None after conversion\n",
    "df.dropna(subset=['total_sqft'], inplace=True)\n"
   ]
  },
  {
   "cell_type": "markdown",
   "id": "47ad4289",
   "metadata": {},
   "source": [
    "💬 Why Label Encoding?\n",
    "Each unique category gets a number (e.g., Whitefield → 157)\n",
    "\n",
    "Unlike one-hot, it doesn’t blow up the number of features (especially helpful for location, which has 200+ values).\n",
    "\n",
    "Random Forest is tree-based, so label encoding won't hurt the performance like it would in linear models."
   ]
  },
  {
   "cell_type": "code",
   "execution_count": 9,
   "id": "a0fea4b4",
   "metadata": {},
   "outputs": [],
   "source": [
    "from sklearn.preprocessing import LabelEncoder\n",
    "\n",
    "# Initialize LabelEncoders for each column\n",
    "le_area = LabelEncoder()\n",
    "le_avail = LabelEncoder()\n",
    "le_loc = LabelEncoder()\n",
    "\n",
    "# Apply encoding\n",
    "df['area_type'] = le_area.fit_transform(df['area_type'])\n",
    "df['availability'] = le_avail.fit_transform(df['availability'])\n",
    "df['location'] = le_loc.fit_transform(df['location'])\n"
   ]
  },
  {
   "cell_type": "code",
   "execution_count": 10,
   "id": "a7f9e4c8",
   "metadata": {},
   "outputs": [
    {
     "name": "stdout",
     "output_type": "stream",
     "text": [
      "       area_type  availability  location  size  total_sqft  bath  balcony  \\\n",
      "0              3            40       416   2.0      1056.0   2.0      1.0   \n",
      "1              2            80       314   4.0      2600.0   5.0      3.0   \n",
      "2              0            80      1174   3.0      1440.0   2.0      3.0   \n",
      "3              3            80       754   3.0      1521.0   3.0      1.0   \n",
      "4              3            80       713   2.0      1200.0   2.0      1.0   \n",
      "...          ...           ...       ...   ...         ...   ...      ...   \n",
      "13312          3            80       234   2.0      1262.0   2.0      2.0   \n",
      "13313          3            80      1174   3.0      1345.0   2.0      1.0   \n",
      "13314          3            80       471   3.0      1715.0   3.0      3.0   \n",
      "13317          0            80       967   2.0      1141.0   2.0      1.0   \n",
      "13319          3            80       393   1.0       550.0   1.0      1.0   \n",
      "\n",
      "        price  \n",
      "0       39.07  \n",
      "1      120.00  \n",
      "2       62.00  \n",
      "3       95.00  \n",
      "4       51.00  \n",
      "...       ...  \n",
      "13312   47.00  \n",
      "13313   57.00  \n",
      "13314  112.00  \n",
      "13317   60.00  \n",
      "13319   17.00  \n",
      "\n",
      "[12007 rows x 8 columns]\n"
     ]
    }
   ],
   "source": [
    "import numpy as np\n",
    "\n",
    "# outlier removing\n",
    "\n",
    "# Calculate Q1 and Q3\n",
    "Q1 = df['price'].quantile(0.25)\n",
    "Q3 = df['price'].quantile(0.75)\n",
    "IQR = Q3 - Q1\n",
    "\n",
    "# Identify outliers\n",
    "df_no_outliers = df[(df['price'] >= (Q1 - 1.5 * IQR)) & (df['price'] <= (Q3 + 1.5 * IQR))]\n",
    "\n",
    "df.reset_index(drop=True, inplace=True)\n",
    "\n",
    "print(df_no_outliers)"
   ]
  },
  {
   "cell_type": "code",
   "execution_count": 11,
   "id": "773d8f40",
   "metadata": {},
   "outputs": [],
   "source": [
    "def remove_outliers_iqr(df, column):\n",
    "    Q1 = df[column].quantile(0.25)\n",
    "    Q3 = df[column].quantile(0.75)\n",
    "    IQR = Q3 - Q1\n",
    "    lower_limit = Q1 - 1.5 * IQR\n",
    "    upper_limit = Q3 + 1.5 * IQR\n",
    "    return df[(df[column] >= lower_limit) & (df[column] <= upper_limit)]\n"
   ]
  },
  {
   "cell_type": "code",
   "execution_count": 12,
   "id": "dcf02ff2",
   "metadata": {},
   "outputs": [],
   "source": [
    "# List of all numerical columns\n",
    "num_cols = df.select_dtypes(include=['int64', 'float64']).columns\n",
    "\n",
    "# Apply outlier removal for each numerical column\n",
    "for col in num_cols:\n",
    "    df = remove_outliers_iqr(df, col)\n"
   ]
  },
  {
   "cell_type": "code",
   "execution_count": 13,
   "id": "1a56a745",
   "metadata": {},
   "outputs": [],
   "source": [
    "# Remove top and bottom 1% of price to reduce noise\n",
    "q1 = df['price'].quantile(0.01)\n",
    "q99 = df['price'].quantile(0.99)\n",
    "df = df[(df['price'] > q1) & (df['price'] < q99)]\n"
   ]
  },
  {
   "cell_type": "code",
   "execution_count": 14,
   "id": "e0baaaa1",
   "metadata": {},
   "outputs": [],
   "source": [
    "# Remove rows where sqft per BHK is suspiciously low or high\n",
    "df = df[df['size'] > 0]  # avoid division by zero\n",
    "df['sqft_per_bhk'] = df['total_sqft'] / df['size']\n",
    "df = df[(df['sqft_per_bhk'] > 300) & (df['sqft_per_bhk'] < 2000)]\n"
   ]
  },
  {
   "cell_type": "code",
   "execution_count": 15,
   "id": "64577d0f",
   "metadata": {},
   "outputs": [],
   "source": [
    "# Group rare locations into 'Other'\n",
    "location_counts = df['location'].value_counts()\n",
    "rare_locations = location_counts[location_counts <= 10].index\n",
    "df['location'] = df['location'].apply(lambda x: 'Other' if x in rare_locations else x)\n"
   ]
  },
  {
   "cell_type": "code",
   "execution_count": 16,
   "id": "d71ac579",
   "metadata": {},
   "outputs": [],
   "source": [
    "# Convert all location values to string\n",
    "df['location'] = df['location'].astype(str)\n",
    "\n",
    "# Now safely encode\n",
    "from sklearn.preprocessing import LabelEncoder\n",
    "le_loc = LabelEncoder()\n",
    "df['location'] = le_loc.fit_transform(df['location'])\n"
   ]
  },
  {
   "cell_type": "code",
   "execution_count": 17,
   "id": "0f7d46b7",
   "metadata": {},
   "outputs": [
    {
     "data": {
      "text/plain": [
       "total_sqft    0.466040\n",
       "size          0.029635\n",
       "bath          0.574612\n",
       "balcony       0.024465\n",
       "price         0.864479\n",
       "dtype: float64"
      ]
     },
     "execution_count": 17,
     "metadata": {},
     "output_type": "execute_result"
    }
   ],
   "source": [
    "# Only select numerical columns\n",
    "num_cols = ['total_sqft', 'size', 'bath', 'balcony', 'price']\n",
    "\n",
    "# Show skewness\n",
    "df[num_cols].skew()\n"
   ]
  },
  {
   "cell_type": "code",
   "execution_count": 18,
   "id": "2871fcec",
   "metadata": {},
   "outputs": [],
   "source": [
    "import numpy as np\n",
    "\n",
    "# Apply log1p to reduce skewness\n",
    "df[['total_sqft','area_type']] = np.log1p(df[['total_sqft','area_type']])\n",
    "df['price'] = np.log1p(df['price'])   # Target variable — helps improve RMSE\n"
   ]
  },
  {
   "cell_type": "code",
   "execution_count": 19,
   "id": "b76be89e",
   "metadata": {},
   "outputs": [],
   "source": [
    "# df.drop('availability', axis=1, inplace=True)"
   ]
  },
  {
   "cell_type": "code",
   "execution_count": 20,
   "id": "27b37cfc",
   "metadata": {},
   "outputs": [
    {
     "data": {
      "text/plain": [
       "area_type      -1.612291\n",
       "availability   -1.556206\n",
       "location       -0.135492\n",
       "size            0.029635\n",
       "total_sqft     -0.604557\n",
       "bath            0.574612\n",
       "balcony         0.024465\n",
       "price          -0.033450\n",
       "sqft_per_bhk    1.695402\n",
       "dtype: float64"
      ]
     },
     "execution_count": 20,
     "metadata": {},
     "output_type": "execute_result"
    }
   ],
   "source": [
    "df.skew()"
   ]
  },
  {
   "cell_type": "code",
   "execution_count": 21,
   "id": "aab78905",
   "metadata": {},
   "outputs": [],
   "source": [
    "# from sklearn.model_selection import train_test_split\n",
    "# from sklearn.ensemble import RandomForestRegressor\n",
    "# from sklearn.metrics import r2_score, mean_squared_error\n",
    "# import numpy as np\n",
    "\n",
    "# # Features and target\n",
    "# features = ['area_type', 'location', 'size', 'total_sqft', 'bath', 'balcony']\n",
    "# target = 'price'\n",
    "# X = df[features]\n",
    "# y = df[target]\n",
    "\n",
    "# # Split\n",
    "# X_train, X_test, y_train, y_test = train_test_split(X, y, test_size=0.2, random_state=42)\n",
    "\n",
    "# # Train\n",
    "# rf = RandomForestRegressor(n_estimators=200, max_depth=15, random_state=42)\n",
    "# rf.fit(X_train, y_train)\n",
    "\n",
    "# # Predict\n",
    "# y_pred = rf.predict(X_test)\n",
    "\n",
    "# # Metrics\n",
    "# print(\"✅ R2 Score:\", r2_score(y_test, y_pred))\n",
    "# print(\"✅ RMSE:\", np.sqrt(mean_squared_error(y_test, y_pred)))\n"
   ]
  },
  {
   "cell_type": "code",
   "execution_count": 22,
   "id": "7858a807",
   "metadata": {},
   "outputs": [],
   "source": [
    "# # Apply log1p to reduce skewness for numerical features\n",
    "# for col in ['total_sqft', 'bath', 'size', 'balcony']:\n",
    "#     if df[col].skew() > 0.5:  # Apply if skewness is high\n",
    "#         df[col] = np.log1p(df[col])\n",
    "\n",
    "# # Log transform price\n",
    "# df['price'] = np.log1p(df['price'])\n",
    "\n",
    "# # Check skewness after transformation\n",
    "# print(\"Skewness after transformation:\")\n",
    "# print(df[['total_sqft', 'bath', 'size', 'balcony', 'price']].skew())"
   ]
  },
  {
   "cell_type": "code",
   "execution_count": 39,
   "id": "70fb51e6",
   "metadata": {},
   "outputs": [
    {
     "name": "stdout",
     "output_type": "stream",
     "text": [
      "✅ Best Parameters: {'max_depth': 15, 'min_samples_leaf': 2, 'min_samples_split': 5, 'n_estimators': 300}\n",
      "✅ R2 Score: 0.6633219988858894\n",
      "✅ RMSE: 0.24244173201811242\n"
     ]
    }
   ],
   "source": [
    "from sklearn.model_selection import train_test_split\n",
    "from sklearn.ensemble import RandomForestRegressor\n",
    "from sklearn.metrics import r2_score, mean_squared_error\n",
    "import numpy as np\n",
    "from sklearn.model_selection import GridSearchCV\n",
    "\n",
    "# Features and target\n",
    "features = ['area_type', 'location', 'size', 'total_sqft', 'bath', 'balcony']\n",
    "X = df[features]\n",
    "y = df['price']\n",
    "X_train, X_test, y_train, y_test = train_test_split(X, y, test_size=0.2, random_state=42)\n",
    "\n",
    "# Define parameter grid\n",
    "param_grid = {\n",
    "    'n_estimators': [100, 200, 300],\n",
    "    'max_depth': [10, 15, 20, None],\n",
    "    'min_samples_split': [2, 5, 10],\n",
    "    'min_samples_leaf': [1, 2, 4]\n",
    "}\n",
    "\n",
    "# Initialize model and GridSearchCV\n",
    "rf = RandomForestRegressor(random_state=42)\n",
    "grid_search = GridSearchCV(estimator=rf, param_grid=param_grid, cv=5, scoring='r2', n_jobs=-1)\n",
    "grid_search.fit(X_train, y_train)\n",
    "\n",
    "# Best model\n",
    "best_rf = grid_search.best_estimator_\n",
    "y_pred = best_rf.predict(X_test)\n",
    "\n",
    "# Metrics\n",
    "print(\"✅ Best Parameters:\", grid_search.best_params_)\n",
    "print(\"✅ R2 Score:\", r2_score(y_test, y_pred))\n",
    "print(\"✅ RMSE:\", np.sqrt(mean_squared_error(y_test, y_pred)))"
   ]
  },
  {
   "cell_type": "code",
   "execution_count": 24,
   "id": "c2eca774",
   "metadata": {},
   "outputs": [],
   "source": [
    "# from xgboost import XGBRegressor\n",
    "\n",
    "# # Train XGBoost\n",
    "# xgb = XGBRegressor(n_estimators=200, learning_rate=0.05, max_depth=6, random_state=42)\n",
    "# xgb.fit(X_train, y_train, eval_set=[(X_test, y_test)],  verbose=False)\n",
    "\n",
    "# # Predict\n",
    "# y_pred_xgb = xgb.predict(X_test)\n",
    "\n",
    "# # Metrics\n",
    "# print(\"✅ XGBoost R2 Score:\", r2_score(y_test, y_pred_xgb))\n",
    "# print(\"✅ XGBoost RMSE:\", np.sqrt(mean_squared_error(y_test, y_pred_xgb)))\n",
    "\n",
    "# # Save XGBoost model if better\n",
    "# # if r2_score(y_test, y_pred_xgb) > r2_score(y_test, y_pred):\n",
    "# #     with open(\"model.pkl\", \"wb\") as f:\n",
    "# #         pickle.dump(xgb, f)\n",
    "# #     print(\"✅ Saved XGBoost model as model.pkl\")"
   ]
  },
  {
   "cell_type": "markdown",
   "id": "0397bf47",
   "metadata": {},
   "source": [
    "🚨 Important Note:\n",
    "If you apply log1p to the target (price), you must reverse the log when you deploy:"
   ]
  },
  {
   "cell_type": "code",
   "execution_count": 25,
   "id": "7d4ce4f4",
   "metadata": {},
   "outputs": [],
   "source": [
    "# import matplotlib.pyplot as plt\n",
    "# import seaborn as sns\n",
    "\n",
    "# plt.figure(figsize=(8, 6))\n",
    "# sns.scatterplot(x=y_true, y=y_pred, alpha=0.4)\n",
    "# plt.xlabel(\"Actual Price\")\n",
    "# plt.ylabel(\"Predicted Price\")\n",
    "# plt.title(\"Actual vs Predicted Prices\")\n",
    "# plt.plot([y_true.min(), y_true.max()], [y_true.min(), y_true.max()], 'r--')  # perfect line\n",
    "# plt.grid(True)\n",
    "# plt.show()\n"
   ]
  },
  {
   "cell_type": "code",
   "execution_count": 26,
   "id": "40e45d4f",
   "metadata": {},
   "outputs": [
    {
     "name": "stdout",
     "output_type": "stream",
     "text": [
      "🏠 Property 1:\n",
      "   ✅ Actual Price    : 95.0 Lakhs\n",
      "   🤖 Predicted Price : 76.21 Lakhs\n",
      "----------------------------------------\n",
      "🏠 Property 2:\n",
      "   ✅ Actual Price    : 49.5 Lakhs\n",
      "   🤖 Predicted Price : 34.88 Lakhs\n",
      "----------------------------------------\n",
      "🏠 Property 3:\n",
      "   ✅ Actual Price    : 32.64 Lakhs\n",
      "   🤖 Predicted Price : 37.41 Lakhs\n",
      "----------------------------------------\n",
      "🏠 Property 4:\n",
      "   ✅ Actual Price    : 124.0 Lakhs\n",
      "   🤖 Predicted Price : 108.52 Lakhs\n",
      "----------------------------------------\n",
      "🏠 Property 5:\n",
      "   ✅ Actual Price    : 91.31 Lakhs\n",
      "   🤖 Predicted Price : 111.82 Lakhs\n",
      "----------------------------------------\n",
      "🏠 Property 6:\n",
      "   ✅ Actual Price    : 32.79 Lakhs\n",
      "   🤖 Predicted Price : 37.22 Lakhs\n",
      "----------------------------------------\n",
      "🏠 Property 7:\n",
      "   ✅ Actual Price    : 94.0 Lakhs\n",
      "   🤖 Predicted Price : 86.96 Lakhs\n",
      "----------------------------------------\n",
      "🏠 Property 8:\n",
      "   ✅ Actual Price    : 56.0 Lakhs\n",
      "   🤖 Predicted Price : 56.26 Lakhs\n",
      "----------------------------------------\n",
      "🏠 Property 9:\n",
      "   ✅ Actual Price    : 68.0 Lakhs\n",
      "   🤖 Predicted Price : 72.08 Lakhs\n",
      "----------------------------------------\n",
      "🏠 Property 10:\n",
      "   ✅ Actual Price    : 33.0 Lakhs\n",
      "   🤖 Predicted Price : 31.19 Lakhs\n",
      "----------------------------------------\n"
     ]
    }
   ],
   "source": [
    "# Reverse log1p if needed\n",
    "y_pred = np.expm1(best_rf.predict(X_test))\n",
    "y_actual = np.expm1(y_test)\n",
    "\n",
    "# Print first 10 actual vs predicted values\n",
    "for i in range(10):\n",
    "    print(f\"🏠 Property {i+1}:\")\n",
    "    print(f\"   ✅ Actual Price    : {round(y_actual.iloc[i], 2)} Lakhs\")\n",
    "    print(f\"   🤖 Predicted Price : {round(y_pred[i], 2)} Lakhs\")\n",
    "    print(\"-\" * 40)\n"
   ]
  },
  {
   "cell_type": "code",
   "execution_count": 27,
   "id": "3cfd38f3",
   "metadata": {},
   "outputs": [
    {
     "name": "stdout",
     "output_type": "stream",
     "text": [
      "<class 'pandas.core.frame.DataFrame'>\n",
      "Index: 10056 entries, 0 to 13271\n",
      "Data columns (total 9 columns):\n",
      " #   Column        Non-Null Count  Dtype  \n",
      "---  ------        --------------  -----  \n",
      " 0   area_type     10056 non-null  float64\n",
      " 1   availability  10056 non-null  int32  \n",
      " 2   location      10056 non-null  int32  \n",
      " 3   size          10056 non-null  float64\n",
      " 4   total_sqft    10056 non-null  float64\n",
      " 5   bath          10056 non-null  float64\n",
      " 6   balcony       10056 non-null  float64\n",
      " 7   price         10056 non-null  float64\n",
      " 8   sqft_per_bhk  10056 non-null  float64\n",
      "dtypes: float64(7), int32(2)\n",
      "memory usage: 707.1 KB\n"
     ]
    }
   ],
   "source": [
    "df.info()"
   ]
  },
  {
   "cell_type": "code",
   "execution_count": 28,
   "id": "e1dd35ae",
   "metadata": {},
   "outputs": [],
   "source": [
    "# # Define input features (X) and target variable (y)\n",
    "# features = ['area_type', 'location', 'size', 'total_sqft', 'bath', 'balcony']\n",
    "# target = 'price'\n",
    "\n",
    "# X = df[features]\n",
    "# y = df[target]\n"
   ]
  },
  {
   "cell_type": "code",
   "execution_count": 29,
   "id": "fb12a734",
   "metadata": {},
   "outputs": [],
   "source": [
    "from sklearn.preprocessing import StandardScaler\n",
    "scaler = StandardScaler()\n",
    "X_scaled = scaler.fit_transform(X)\n"
   ]
  },
  {
   "cell_type": "code",
   "execution_count": 30,
   "id": "42b558d0",
   "metadata": {},
   "outputs": [],
   "source": [
    "# from sklearn.model_selection import train_test_split\n",
    "\n",
    "# # Split data into training and testing sets\n",
    "# X_train, X_test, y_train, y_test = train_test_split(X, y, test_size=0.2, random_state=42)\n"
   ]
  },
  {
   "cell_type": "code",
   "execution_count": 31,
   "id": "2e56fd80",
   "metadata": {},
   "outputs": [],
   "source": [
    "# from sklearn.ensemble import RandomForestRegressor\n",
    "\n",
    "# # Initialize and train Random Forest\n",
    "# rf = RandomForestRegressor(n_estimators=200, max_depth=15, random_state=42)\n",
    "# rf.fit(X_train, y_train)\n"
   ]
  },
  {
   "cell_type": "code",
   "execution_count": 32,
   "id": "300ec351",
   "metadata": {},
   "outputs": [],
   "source": [
    "# from sklearn.model_selection import GridSearchCV\n",
    "\n",
    "# params = {\n",
    "#     'n_estimators': [100, 200],\n",
    "#     'max_depth': [5, 10, None],\n",
    "#     'min_samples_split': [2, 5]\n",
    "# }\n",
    "# grid = GridSearchCV(RandomForestRegressor(), params, cv=3, scoring='r2')\n",
    "# grid.fit(X_train, y_train)\n"
   ]
  },
  {
   "cell_type": "code",
   "execution_count": 33,
   "id": "51e3ba85",
   "metadata": {},
   "outputs": [
    {
     "name": "stdout",
     "output_type": "stream",
     "text": [
      "Mean CV Score: 0.6597744629546718\n"
     ]
    }
   ],
   "source": [
    "from sklearn.model_selection import cross_val_score\n",
    "scores = cross_val_score(best_rf, X, y, cv=5)\n",
    "print(\"Mean CV Score:\", scores.mean())\n"
   ]
  },
  {
   "cell_type": "code",
   "execution_count": 34,
   "id": "934a65e7",
   "metadata": {},
   "outputs": [
    {
     "data": {
      "image/png": "[encoded data removed]",
      "text/plain": [
       "<Figure size 640x480 with 1 Axes>"
      ]
     },
     "metadata": {},
     "output_type": "display_data"
    }
   ],
   "source": [
    "import matplotlib.pyplot as plt\n",
    "\n",
    "feat_imp = pd.Series(best_rf.feature_importances_, index=X.columns)\n",
    "feat_imp.nlargest(10).plot(kind='barh')\n",
    "plt.show()\n"
   ]
  },
  {
   "cell_type": "code",
   "execution_count": 35,
   "id": "c88f12c3",
   "metadata": {},
   "outputs": [
    {
     "name": "stdout",
     "output_type": "stream",
     "text": [
      "✅ R2 Score: 0.6633219988858894\n",
      "✅ RMSE: 0.24244173201811242\n"
     ]
    }
   ],
   "source": [
    "from sklearn.metrics import r2_score, mean_squared_error\n",
    "import numpy as np\n",
    "\n",
    "# Predict on test data\n",
    "y_pred = best_rf.predict(X_test)\n",
    "\n",
    "# Print accuracy metrics\n",
    "print(\"✅ R2 Score:\", r2_score(y_test, y_pred))\n",
    "print(\"✅ RMSE:\", np.sqrt(mean_squared_error(y_test, y_pred)))\n"
   ]
  },
  {
   "cell_type": "code",
   "execution_count": 36,
   "id": "970b0341",
   "metadata": {},
   "outputs": [
    {
     "data": {
      "image/png": "[encoded data removed]",
      "text/plain": [
       "<Figure size 640x480 with 1 Axes>"
      ]
     },
     "metadata": {},
     "output_type": "display_data"
    }
   ],
   "source": [
    "import matplotlib.pyplot as plt\n",
    "\n",
    "plt.scatter(y_test, y_pred, alpha=0.5)\n",
    "plt.xlabel(\"Actual Price (Lakh)\")\n",
    "plt.ylabel(\"Predicted Price (Lakh)\")\n",
    "plt.title(\"Actual vs Predicted Price\")\n",
    "plt.plot([y_test.min(), y_test.max()], [y_test.min(), y_test.max()], 'r')\n",
    "plt.grid(True)\n",
    "plt.show()\n"
   ]
  },
  {
   "cell_type": "code",
   "execution_count": 37,
   "id": "d56c3697",
   "metadata": {},
   "outputs": [],
   "source": [
    "# Before training\n",
    "X = df.drop(\"price\", axis=1)\n",
    "y = df[\"price\"]\n",
    "\n",
    "# Save the column order used\n",
    "import pickle\n",
    "columns_used = X.columns.tolist()\n",
    "with open(\"columns.pkl\", \"wb\") as f:\n",
    "    pickle.dump(columns_used, f)\n",
    "\n",
    "# Train the model\n",
    "model = RandomForestRegressor()\n",
    "model.fit(X, y)\n",
    "\n",
    "# Save model\n",
    "with open(\"model.pkl\", \"wb\") as f:\n",
    "    pickle.dump(model, f)\n",
    "\n"
   ]
  },
  {
   "cell_type": "code",
   "execution_count": 38,
   "id": "c3815bc6",
   "metadata": {},
   "outputs": [],
   "source": [
    "# import pandas as pd\n",
    "# import numpy as np\n",
    "# import pickle\n",
    "\n",
    "# # Load your cleaned dataset\n",
    "# df = pd.read_csv('Bengaluru_House_Data.csv')  # Replace with your actual CSV\n",
    "\n",
    "# # Optional: Log transform price for training model\n",
    "# df['price'] = np.log1p(df['price'])  # if your model uses log1p(price)\n",
    "\n",
    "# # Save the DataFrame for Flask usage (trend, structure, etc.)\n",
    "# with open('df.pkl', 'wb') as f:\n",
    "#     pickle.dump(df, f)\n",
    "\n",
    "# print(\"✅ df.pkl file has been created.\")\n"
   ]
  }
 ],
 "metadata": {
  "kernelspec": {
   "display_name": "Python 3",
   "language": "python",
   "name": "python3"
  },
  "language_info": {
   "codemirror_mode": {
    "name": "ipython",
    "version": 3
   },
   "file_extension": ".py",
   "mimetype": "text/x-python",
   "name": "python",
   "nbconvert_exporter": "python",
   "pygments_lexer": "ipython3",
   "version": "3.12.6"
  }
 },
 "nbformat": 4,
 "nbformat_minor": 5
}
